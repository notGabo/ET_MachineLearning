{
  "cells": [
    {
      "cell_type": "code",
      "execution_count": 42,
      "metadata": {
        "colab": {
          "base_uri": "https://localhost:8080/"
        },
        "id": "gJmgXKA7NqZ-",
        "outputId": "0e02bf7d-8a00-4f55-dd66-a2d36cff0d8d"
      },
      "outputs": [
        {
          "name": "stdout",
          "output_type": "stream",
          "text": [
            "['.git', 'column_2C_weka.csv', 'et_ml.ipynb']\n"
          ]
        }
      ],
      "source": [
        "import numpy as np\n",
        "import pandas as pd\n",
        "import matplotlib.pyplot as plt\n",
        "import seaborn as sns\n",
        "%matplotlib inline\n",
        "import os\n",
        "print(os.listdir())\n",
        "import warnings\n",
        "warnings.filterwarnings('ignore')"
      ]
    },
    {
      "cell_type": "code",
      "execution_count": 55,
      "metadata": {
        "colab": {
          "base_uri": "https://localhost:8080/",
          "height": 267
        },
        "id": "txs1KT_wNDei",
        "outputId": "c2d856f4-fee8-40d5-bc7b-644a952c5941"
      },
      "outputs": [
        {
          "data": {
            "text/html": [
              "<div>\n",
              "<style scoped>\n",
              "    .dataframe tbody tr th:only-of-type {\n",
              "        vertical-align: middle;\n",
              "    }\n",
              "\n",
              "    .dataframe tbody tr th {\n",
              "        vertical-align: top;\n",
              "    }\n",
              "\n",
              "    .dataframe thead th {\n",
              "        text-align: right;\n",
              "    }\n",
              "</style>\n",
              "<table border=\"1\" class=\"dataframe\">\n",
              "  <thead>\n",
              "    <tr style=\"text-align: right;\">\n",
              "      <th></th>\n",
              "      <th>incidencia_pelvica</th>\n",
              "      <th>inclinacion_pelvica</th>\n",
              "      <th>angulo_lordosis_lumbar</th>\n",
              "      <th>pendiente_sacra</th>\n",
              "      <th>radio_pelvico</th>\n",
              "      <th>grado_espondilolistesis</th>\n",
              "      <th>clase</th>\n",
              "    </tr>\n",
              "  </thead>\n",
              "  <tbody>\n",
              "    <tr>\n",
              "      <th>0</th>\n",
              "      <td>63.027817</td>\n",
              "      <td>22.552586</td>\n",
              "      <td>39.609117</td>\n",
              "      <td>40.475232</td>\n",
              "      <td>98.672917</td>\n",
              "      <td>-0.254400</td>\n",
              "      <td>Anormal</td>\n",
              "    </tr>\n",
              "    <tr>\n",
              "      <th>1</th>\n",
              "      <td>39.056951</td>\n",
              "      <td>10.060991</td>\n",
              "      <td>25.015378</td>\n",
              "      <td>28.995960</td>\n",
              "      <td>114.405425</td>\n",
              "      <td>4.564259</td>\n",
              "      <td>Anormal</td>\n",
              "    </tr>\n",
              "    <tr>\n",
              "      <th>2</th>\n",
              "      <td>68.832021</td>\n",
              "      <td>22.218482</td>\n",
              "      <td>50.092194</td>\n",
              "      <td>46.613539</td>\n",
              "      <td>105.985135</td>\n",
              "      <td>-3.530317</td>\n",
              "      <td>Anormal</td>\n",
              "    </tr>\n",
              "    <tr>\n",
              "      <th>3</th>\n",
              "      <td>69.297008</td>\n",
              "      <td>24.652878</td>\n",
              "      <td>44.311238</td>\n",
              "      <td>44.644130</td>\n",
              "      <td>101.868495</td>\n",
              "      <td>11.211523</td>\n",
              "      <td>Anormal</td>\n",
              "    </tr>\n",
              "    <tr>\n",
              "      <th>4</th>\n",
              "      <td>49.712859</td>\n",
              "      <td>9.652075</td>\n",
              "      <td>28.317406</td>\n",
              "      <td>40.060784</td>\n",
              "      <td>108.168725</td>\n",
              "      <td>7.918501</td>\n",
              "      <td>Anormal</td>\n",
              "    </tr>\n",
              "    <tr>\n",
              "      <th>5</th>\n",
              "      <td>40.250200</td>\n",
              "      <td>13.921907</td>\n",
              "      <td>25.124950</td>\n",
              "      <td>26.328293</td>\n",
              "      <td>130.327871</td>\n",
              "      <td>2.230652</td>\n",
              "      <td>Anormal</td>\n",
              "    </tr>\n",
              "    <tr>\n",
              "      <th>6</th>\n",
              "      <td>53.432928</td>\n",
              "      <td>15.864336</td>\n",
              "      <td>37.165934</td>\n",
              "      <td>37.568592</td>\n",
              "      <td>120.567523</td>\n",
              "      <td>5.988551</td>\n",
              "      <td>Anormal</td>\n",
              "    </tr>\n",
              "    <tr>\n",
              "      <th>7</th>\n",
              "      <td>45.366754</td>\n",
              "      <td>10.755611</td>\n",
              "      <td>29.038349</td>\n",
              "      <td>34.611142</td>\n",
              "      <td>117.270067</td>\n",
              "      <td>-10.675871</td>\n",
              "      <td>Anormal</td>\n",
              "    </tr>\n",
              "    <tr>\n",
              "      <th>8</th>\n",
              "      <td>43.790190</td>\n",
              "      <td>13.533753</td>\n",
              "      <td>42.690814</td>\n",
              "      <td>30.256437</td>\n",
              "      <td>125.002893</td>\n",
              "      <td>13.289018</td>\n",
              "      <td>Anormal</td>\n",
              "    </tr>\n",
              "    <tr>\n",
              "      <th>9</th>\n",
              "      <td>36.686353</td>\n",
              "      <td>5.010884</td>\n",
              "      <td>41.948751</td>\n",
              "      <td>31.675469</td>\n",
              "      <td>84.241415</td>\n",
              "      <td>0.664437</td>\n",
              "      <td>Anormal</td>\n",
              "    </tr>\n",
              "  </tbody>\n",
              "</table>\n",
              "</div>"
            ],
            "text/plain": [
              "   incidencia_pelvica  inclinacion_pelvica   angulo_lordosis_lumbar  \\\n",
              "0           63.027817            22.552586                39.609117   \n",
              "1           39.056951            10.060991                25.015378   \n",
              "2           68.832021            22.218482                50.092194   \n",
              "3           69.297008            24.652878                44.311238   \n",
              "4           49.712859             9.652075                28.317406   \n",
              "5           40.250200            13.921907                25.124950   \n",
              "6           53.432928            15.864336                37.165934   \n",
              "7           45.366754            10.755611                29.038349   \n",
              "8           43.790190            13.533753                42.690814   \n",
              "9           36.686353             5.010884                41.948751   \n",
              "\n",
              "   pendiente_sacra  radio_pelvico  grado_espondilolistesis    clase  \n",
              "0        40.475232      98.672917                -0.254400  Anormal  \n",
              "1        28.995960     114.405425                 4.564259  Anormal  \n",
              "2        46.613539     105.985135                -3.530317  Anormal  \n",
              "3        44.644130     101.868495                11.211523  Anormal  \n",
              "4        40.060784     108.168725                 7.918501  Anormal  \n",
              "5        26.328293     130.327871                 2.230652  Anormal  \n",
              "6        37.568592     120.567523                 5.988551  Anormal  \n",
              "7        34.611142     117.270067               -10.675871  Anormal  \n",
              "8        30.256437     125.002893                13.289018  Anormal  \n",
              "9        31.675469      84.241415                 0.664437  Anormal  "
            ]
          },
          "execution_count": 55,
          "metadata": {},
          "output_type": "execute_result"
        }
      ],
      "source": [
        "name= \"column_2C_weka.csv\"\n",
        "df = pd.read_csv(name,sep=\";\")\n",
        "\n",
        "paraConvertir = ['incidencia_pelvica', 'inclinacion_pelvica', ' angulo_lordosis_lumbar', 'pendiente_sacra', 'radio_pelvico', 'grado_espondilolistesis']\n",
        "\n",
        "def ConvertirAFloat(df, columna):\n",
        "    df[columna] = df[columna].str.replace(',', '.').astype(float)\n",
        "    return df\n",
        "\n",
        "for columna in paraConvertir:\n",
        "    df = ConvertirAFloat(df, columna)\n",
        "\n",
        "df.head(10)"
      ]
    },
    {
      "cell_type": "code",
      "execution_count": 44,
      "metadata": {
        "colab": {
          "base_uri": "https://localhost:8080/",
          "height": 175
        },
        "id": "ww-QL30tOW9U",
        "outputId": "c7d94aa9-90a0-4cdf-8b82-934b0f64bde2"
      },
      "outputs": [
        {
          "data": {
            "text/html": [
              "<div>\n",
              "<style scoped>\n",
              "    .dataframe tbody tr th:only-of-type {\n",
              "        vertical-align: middle;\n",
              "    }\n",
              "\n",
              "    .dataframe tbody tr th {\n",
              "        vertical-align: top;\n",
              "    }\n",
              "\n",
              "    .dataframe thead th {\n",
              "        text-align: right;\n",
              "    }\n",
              "</style>\n",
              "<table border=\"1\" class=\"dataframe\">\n",
              "  <thead>\n",
              "    <tr style=\"text-align: right;\">\n",
              "      <th></th>\n",
              "      <th>incidencia_pelvica</th>\n",
              "      <th>inclinacion_pelvica</th>\n",
              "      <th>angulo_lordosis_lumbar</th>\n",
              "      <th>pendiente_sacra</th>\n",
              "      <th>radio_pelvico</th>\n",
              "      <th>grado_espondilolistesis</th>\n",
              "    </tr>\n",
              "  </thead>\n",
              "  <tbody>\n",
              "    <tr>\n",
              "      <th>count</th>\n",
              "      <td>310.000000</td>\n",
              "      <td>310.000000</td>\n",
              "      <td>310.000000</td>\n",
              "      <td>310.000000</td>\n",
              "      <td>310.000000</td>\n",
              "      <td>310.000000</td>\n",
              "    </tr>\n",
              "    <tr>\n",
              "      <th>mean</th>\n",
              "      <td>60.496653</td>\n",
              "      <td>17.542822</td>\n",
              "      <td>51.930930</td>\n",
              "      <td>42.953831</td>\n",
              "      <td>117.920655</td>\n",
              "      <td>26.296694</td>\n",
              "    </tr>\n",
              "    <tr>\n",
              "      <th>std</th>\n",
              "      <td>17.236520</td>\n",
              "      <td>10.008330</td>\n",
              "      <td>18.554064</td>\n",
              "      <td>13.423102</td>\n",
              "      <td>13.317377</td>\n",
              "      <td>37.559027</td>\n",
              "    </tr>\n",
              "    <tr>\n",
              "      <th>min</th>\n",
              "      <td>26.147921</td>\n",
              "      <td>-6.554948</td>\n",
              "      <td>14.000000</td>\n",
              "      <td>13.366931</td>\n",
              "      <td>70.082575</td>\n",
              "      <td>-11.058179</td>\n",
              "    </tr>\n",
              "    <tr>\n",
              "      <th>25%</th>\n",
              "      <td>46.430294</td>\n",
              "      <td>10.667069</td>\n",
              "      <td>37.000000</td>\n",
              "      <td>33.347122</td>\n",
              "      <td>110.709196</td>\n",
              "      <td>1.603727</td>\n",
              "    </tr>\n",
              "    <tr>\n",
              "      <th>50%</th>\n",
              "      <td>58.691038</td>\n",
              "      <td>16.357689</td>\n",
              "      <td>49.562398</td>\n",
              "      <td>42.404912</td>\n",
              "      <td>118.268178</td>\n",
              "      <td>11.767934</td>\n",
              "    </tr>\n",
              "    <tr>\n",
              "      <th>75%</th>\n",
              "      <td>72.877696</td>\n",
              "      <td>22.120395</td>\n",
              "      <td>63.000000</td>\n",
              "      <td>52.695888</td>\n",
              "      <td>125.467674</td>\n",
              "      <td>41.287352</td>\n",
              "    </tr>\n",
              "    <tr>\n",
              "      <th>max</th>\n",
              "      <td>129.834041</td>\n",
              "      <td>49.431864</td>\n",
              "      <td>125.742385</td>\n",
              "      <td>121.429566</td>\n",
              "      <td>163.071041</td>\n",
              "      <td>418.543082</td>\n",
              "    </tr>\n",
              "  </tbody>\n",
              "</table>\n",
              "</div>"
            ],
            "text/plain": [
              "       incidencia_pelvica  inclinacion_pelvica   angulo_lordosis_lumbar  \\\n",
              "count          310.000000           310.000000               310.000000   \n",
              "mean            60.496653            17.542822                51.930930   \n",
              "std             17.236520            10.008330                18.554064   \n",
              "min             26.147921            -6.554948                14.000000   \n",
              "25%             46.430294            10.667069                37.000000   \n",
              "50%             58.691038            16.357689                49.562398   \n",
              "75%             72.877696            22.120395                63.000000   \n",
              "max            129.834041            49.431864               125.742385   \n",
              "\n",
              "       pendiente_sacra  radio_pelvico  grado_espondilolistesis  \n",
              "count       310.000000     310.000000               310.000000  \n",
              "mean         42.953831     117.920655                26.296694  \n",
              "std          13.423102      13.317377                37.559027  \n",
              "min          13.366931      70.082575               -11.058179  \n",
              "25%          33.347122     110.709196                 1.603727  \n",
              "50%          42.404912     118.268178                11.767934  \n",
              "75%          52.695888     125.467674                41.287352  \n",
              "max         121.429566     163.071041               418.543082  "
            ]
          },
          "execution_count": 44,
          "metadata": {},
          "output_type": "execute_result"
        }
      ],
      "source": [
        "df.describe() # CREO QUE ESTO DE ACA ES A LO QUE SE REFIERE A LOS VALORES DESCRIPTIVOS ESTADISTICOS xd"
      ]
    },
    {
      "cell_type": "code",
      "execution_count": 45,
      "metadata": {
        "colab": {
          "base_uri": "https://localhost:8080/"
        },
        "id": "9TtUmYBPOoFI",
        "outputId": "3c58add2-a58f-41ee-ddc5-37e5cd881876"
      },
      "outputs": [
        {
          "name": "stdout",
          "output_type": "stream",
          "text": [
            "<class 'pandas.core.frame.DataFrame'>\n",
            "RangeIndex: 310 entries, 0 to 309\n",
            "Data columns (total 7 columns):\n",
            " #   Column                   Non-Null Count  Dtype  \n",
            "---  ------                   --------------  -----  \n",
            " 0   incidencia_pelvica       310 non-null    float64\n",
            " 1   inclinacion_pelvica      310 non-null    float64\n",
            " 2    angulo_lordosis_lumbar  310 non-null    float64\n",
            " 3   pendiente_sacra          310 non-null    float64\n",
            " 4   radio_pelvico            310 non-null    float64\n",
            " 5   grado_espondilolistesis  310 non-null    float64\n",
            " 6   clase                    310 non-null    object \n",
            "dtypes: float64(6), object(1)\n",
            "memory usage: 17.1+ KB\n"
          ]
        }
      ],
      "source": [
        "df.info()"
      ]
    },
    {
      "cell_type": "markdown",
      "metadata": {
        "id": "DlFUO2lIO0p_"
      },
      "source": [
        "NO EXISTEN DATOS NULOS DENTRO DEL DATA FRAME\n"
      ]
    },
    {
      "cell_type": "code",
      "execution_count": 46,
      "metadata": {
        "colab": {
          "base_uri": "https://localhost:8080/"
        },
        "id": "7ewQ5PfzOv-L",
        "outputId": "0651fd01-c54f-4315-c1de-917974f3c7f9"
      },
      "outputs": [
        {
          "data": {
            "text/plain": [
              "incidencia_pelvica         0\n",
              "inclinacion_pelvica        0\n",
              " angulo_lordosis_lumbar    0\n",
              "pendiente_sacra            0\n",
              "radio_pelvico              0\n",
              "grado_espondilolistesis    0\n",
              "clase                      0\n",
              "dtype: int64"
            ]
          },
          "execution_count": 46,
          "metadata": {},
          "output_type": "execute_result"
        }
      ],
      "source": [
        "df.isnull().sum()"
      ]
    },
    {
      "cell_type": "code",
      "execution_count": 59,
      "metadata": {},
      "outputs": [
        {
          "data": {
            "text/plain": [
              "clase\n",
              "Anormal    210\n",
              "Normal     100\n",
              "Name: count, dtype: int64"
            ]
          },
          "execution_count": 59,
          "metadata": {},
          "output_type": "execute_result"
        }
      ],
      "source": [
        "df_clase = df[df['clase'].isin(['Anormal', 'Normal'])]\n",
        "df_clase['clase'].value_counts()"
      ]
    },
    {
      "cell_type": "markdown",
      "metadata": {},
      "source": [
        "Solo existen valores normales y anormales, 210 anormales y 100 normales"
      ]
    },
    {
      "cell_type": "markdown",
      "metadata": {},
      "source": [
        "# Heatmap"
      ]
    },
    {
      "cell_type": "code",
      "execution_count": 70,
      "metadata": {},
      "outputs": [
        {
          "data": {
            "image/png": "[encoded data removed]",
            "text/plain": [
              "<Figure size 1200x800 with 2 Axes>"
            ]
          },
          "metadata": {},
          "output_type": "display_data"
        }
      ],
      "source": [
        "# Heatmap del estado de las columnas usando todas las filas menos la de clase\n",
        "\n",
        "plt.figure(figsize=(12, 8))\n",
        "sns.heatmap(df_clase.drop('clase', axis=1), cmap='viridis')\n",
        "plt.show()\n"
      ]
    },
    {
      "cell_type": "markdown",
      "metadata": {},
      "source": [
        "# Histograma"
      ]
    },
    {
      "cell_type": "code",
      "execution_count": 50,
      "metadata": {
        "colab": {
          "base_uri": "https://localhost:8080/",
          "height": 482
        },
        "id": "dliZUu47SKWq",
        "outputId": "83bc6159-cf0c-499a-afaa-2f2ae3fb3364"
      },
      "outputs": [
        {
          "data": {
            "image/png": "[encoded data removed]",
            "text/plain": [
              "<Figure size 640x480 with 1 Axes>"
            ]
          },
          "metadata": {},
          "output_type": "display_data"
        }
      ],
      "source": [
        "plt.hist(df['incidencia_pelvica'])\n",
        "plt.show()"
      ]
    }
  ],
  "metadata": {
    "colab": {
      "provenance": []
    },
    "kernelspec": {
      "display_name": "Python 3",
      "name": "python3"
    },
    "language_info": {
      "codemirror_mode": {
        "name": "ipython",
        "version": 3
      },
      "file_extension": ".py",
      "mimetype": "text/x-python",
      "name": "python",
      "nbconvert_exporter": "python",
      "pygments_lexer": "ipython3",
      "version": "3.11.6"
    }
  },
  "nbformat": 4,
  "nbformat_minor": 0
}
